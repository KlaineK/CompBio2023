{
  "nbformat": 4,
  "nbformat_minor": 0,
  "metadata": {
    "colab": {
      "provenance": [],
      "authorship_tag": "ABX9TyN7GJ1HPd4YYPLhqCLSQvBU",
      "include_colab_link": true
    },
    "kernelspec": {
      "name": "python3",
      "display_name": "Python 3"
    },
    "language_info": {
      "name": "python"
    }
  },
  "cells": [
    {
      "cell_type": "markdown",
      "metadata": {
        "id": "view-in-github",
        "colab_type": "text"
      },
      "source": [
        "<a href=\"https://colab.research.google.com/github/KlaineK/CompBio2023/blob/main/ComputationalBio_Ses3_KeshiaJeanDarma.ipynb\" target=\"_parent\"><img src=\"https://colab.research.google.com/assets/colab-badge.svg\" alt=\"Open In Colab\"/></a>"
      ]
    },
    {
      "cell_type": "markdown",
      "source": [
        "#Computational Biology - LAB Session 3\n",
        "DNA \n",
        "CGAT\n",
        "\n",
        "A-T\n",
        "\n",
        "T-A\n",
        "\n",
        "G-C\n",
        "\n",
        "C-G\n",
        "\n",
        "RNA \n",
        "CGAU\n",
        "\n",
        "A-U\n",
        "\n",
        "C-G\n",
        "\n",
        "G-C\n",
        "\n",
        "\n",
        "\n",
        "Transcription : proses DNA menjadi RNA, mengubah beberapa nukleotida\n",
        "\n",
        "Translation : mengubah RNA menjadi polipeptida\n",
        "\n"
      ],
      "metadata": {
        "id": "yR-zSMdWDpVF"
      }
    },
    {
      "cell_type": "code",
      "source": [
        "!pip install Bio\n",
        "from Bio.Seq import Seq"
      ],
      "metadata": {
        "colab": {
          "base_uri": "https://localhost:8080/"
        },
        "id": "ZAGf9PGBGFO6",
        "outputId": "15d2d044-f132-44a8-a9db-90c68a4cbc18"
      },
      "execution_count": 3,
      "outputs": [
        {
          "output_type": "stream",
          "name": "stdout",
          "text": [
            "Looking in indexes: https://pypi.org/simple, https://us-python.pkg.dev/colab-wheels/public/simple/\n",
            "Collecting Bio\n",
            "  Downloading bio-1.5.8-py3-none-any.whl (276 kB)\n",
            "\u001b[2K     \u001b[90m━━━━━━━━━━━━━━━━━━━━━━━━━━━━━━━━━━━━━━━\u001b[0m \u001b[32m276.3/276.3 KB\u001b[0m \u001b[31m8.2 MB/s\u001b[0m eta \u001b[36m0:00:00\u001b[0m\n",
            "\u001b[?25hRequirement already satisfied: tqdm in /usr/local/lib/python3.9/dist-packages (from Bio) (4.65.0)\n",
            "Collecting biopython>=1.80\n",
            "  Downloading biopython-1.81-cp39-cp39-manylinux_2_17_x86_64.manylinux2014_x86_64.whl (3.1 MB)\n",
            "\u001b[2K     \u001b[90m━━━━━━━━━━━━━━━━━━━━━━━━━━━━━━━━━━━━━━━━\u001b[0m \u001b[32m3.1/3.1 MB\u001b[0m \u001b[31m21.3 MB/s\u001b[0m eta \u001b[36m0:00:00\u001b[0m\n",
            "\u001b[?25hRequirement already satisfied: requests in /usr/local/lib/python3.9/dist-packages (from Bio) (2.27.1)\n",
            "Requirement already satisfied: pooch in /usr/local/lib/python3.9/dist-packages (from Bio) (1.6.0)\n",
            "Collecting gprofiler-official\n",
            "  Downloading gprofiler_official-1.0.0-py3-none-any.whl (9.3 kB)\n",
            "Collecting mygene\n",
            "  Downloading mygene-3.2.2-py2.py3-none-any.whl (5.4 kB)\n",
            "Requirement already satisfied: pandas in /usr/local/lib/python3.9/dist-packages (from Bio) (1.4.4)\n",
            "Requirement already satisfied: numpy in /usr/local/lib/python3.9/dist-packages (from biopython>=1.80->Bio) (1.22.4)\n",
            "Collecting biothings-client>=0.2.6\n",
            "  Downloading biothings_client-0.3.0-py2.py3-none-any.whl (29 kB)\n",
            "Requirement already satisfied: pytz>=2020.1 in /usr/local/lib/python3.9/dist-packages (from pandas->Bio) (2022.7.1)\n",
            "Requirement already satisfied: python-dateutil>=2.8.1 in /usr/local/lib/python3.9/dist-packages (from pandas->Bio) (2.8.2)\n",
            "Requirement already satisfied: packaging>=20.0 in /usr/local/lib/python3.9/dist-packages (from pooch->Bio) (23.0)\n",
            "Requirement already satisfied: appdirs>=1.3.0 in /usr/local/lib/python3.9/dist-packages (from pooch->Bio) (1.4.4)\n",
            "Requirement already satisfied: certifi>=2017.4.17 in /usr/local/lib/python3.9/dist-packages (from requests->Bio) (2022.12.7)\n",
            "Requirement already satisfied: charset-normalizer~=2.0.0 in /usr/local/lib/python3.9/dist-packages (from requests->Bio) (2.0.12)\n",
            "Requirement already satisfied: idna<4,>=2.5 in /usr/local/lib/python3.9/dist-packages (from requests->Bio) (3.4)\n",
            "Requirement already satisfied: urllib3<1.27,>=1.21.1 in /usr/local/lib/python3.9/dist-packages (from requests->Bio) (1.26.15)\n",
            "Requirement already satisfied: six>=1.5 in /usr/local/lib/python3.9/dist-packages (from python-dateutil>=2.8.1->pandas->Bio) (1.16.0)\n",
            "Installing collected packages: biopython, gprofiler-official, biothings-client, mygene, Bio\n",
            "Successfully installed Bio-1.5.8 biopython-1.81 biothings-client-0.3.0 gprofiler-official-1.0.0 mygene-3.2.2\n"
          ]
        }
      ]
    },
    {
      "cell_type": "code",
      "source": [
        "#melihat function yang ada di library\n",
        "dir(Seq)"
      ],
      "metadata": {
        "colab": {
          "base_uri": "https://localhost:8080/"
        },
        "id": "vheqxbfAGvqC",
        "outputId": "e13ebbd7-7be2-440a-f18a-6f8a94e3f7a7"
      },
      "execution_count": 7,
      "outputs": [
        {
          "output_type": "execute_result",
          "data": {
            "text/plain": [
              "['__abstractmethods__',\n",
              " '__add__',\n",
              " '__array_ufunc__',\n",
              " '__bytes__',\n",
              " '__class__',\n",
              " '__contains__',\n",
              " '__delattr__',\n",
              " '__dict__',\n",
              " '__dir__',\n",
              " '__doc__',\n",
              " '__eq__',\n",
              " '__format__',\n",
              " '__ge__',\n",
              " '__getattribute__',\n",
              " '__getitem__',\n",
              " '__gt__',\n",
              " '__hash__',\n",
              " '__imul__',\n",
              " '__init__',\n",
              " '__init_subclass__',\n",
              " '__iter__',\n",
              " '__le__',\n",
              " '__len__',\n",
              " '__lt__',\n",
              " '__module__',\n",
              " '__mul__',\n",
              " '__ne__',\n",
              " '__new__',\n",
              " '__radd__',\n",
              " '__reduce__',\n",
              " '__reduce_ex__',\n",
              " '__repr__',\n",
              " '__rmul__',\n",
              " '__setattr__',\n",
              " '__sizeof__',\n",
              " '__slots__',\n",
              " '__str__',\n",
              " '__subclasshook__',\n",
              " '__weakref__',\n",
              " '_abc_impl',\n",
              " '_data',\n",
              " 'back_transcribe',\n",
              " 'complement',\n",
              " 'complement_rna',\n",
              " 'count',\n",
              " 'count_overlap',\n",
              " 'defined',\n",
              " 'defined_ranges',\n",
              " 'endswith',\n",
              " 'find',\n",
              " 'index',\n",
              " 'islower',\n",
              " 'isupper',\n",
              " 'join',\n",
              " 'lower',\n",
              " 'lstrip',\n",
              " 'replace',\n",
              " 'reverse_complement',\n",
              " 'reverse_complement_rna',\n",
              " 'rfind',\n",
              " 'rindex',\n",
              " 'rsplit',\n",
              " 'rstrip',\n",
              " 'split',\n",
              " 'startswith',\n",
              " 'strip',\n",
              " 'transcribe',\n",
              " 'translate',\n",
              " 'ungap',\n",
              " 'upper']"
            ]
          },
          "metadata": {},
          "execution_count": 7
        }
      ]
    },
    {
      "cell_type": "code",
      "execution_count": 6,
      "metadata": {
        "colab": {
          "base_uri": "https://localhost:8080/"
        },
        "id": "aS-V98IWDPJv",
        "outputId": "c98b47a0-b68b-441c-9d8f-3ba60d5eed57"
      },
      "outputs": [
        {
          "output_type": "stream",
          "name": "stdout",
          "text": [
            "TACTAGAGCATT\n"
          ]
        }
      ],
      "source": [
        "#Create Main Sequence\n",
        "#Template Strand\n",
        "main_seq = Seq('TACTAGAGCATT')\n",
        "#main_seq\n",
        "print(main_seq)\n",
        "\n",
        "#coding strand : RNA hasil transkripsi dari komplemen template strand"
      ]
    },
    {
      "cell_type": "code",
      "source": [
        "#change template strand to coding strand\n",
        "#complement adalah built-in function, jika ingin dipanggil, harus diberi ()\n",
        "main_seq.complement()\n",
        "\n",
        "#template strand\n",
        "print(main_seq)\n",
        "print('||||||||||||')\n",
        "#coding strand\n",
        "print(main_seq.complement())\n"
      ],
      "metadata": {
        "colab": {
          "base_uri": "https://localhost:8080/"
        },
        "id": "UwxKUOycG-gz",
        "outputId": "0dc8a851-6d53-4ac5-cea1-1e45dfc7e06e"
      },
      "execution_count": 12,
      "outputs": [
        {
          "output_type": "stream",
          "name": "stdout",
          "text": [
            "TACTAGAGCATT\n",
            "||||||||||||\n",
            "ATGATCTCGTAA\n"
          ]
        }
      ]
    },
    {
      "cell_type": "code",
      "source": [
        "#reverse complement \n",
        "print(main_seq.reverse_complement())"
      ],
      "metadata": {
        "colab": {
          "base_uri": "https://localhost:8080/"
        },
        "id": "tJE9ZqPwIAAa",
        "outputId": "4b94b6f1-2586-4650-9afd-75d532c8a7d0"
      },
      "execution_count": 14,
      "outputs": [
        {
          "output_type": "stream",
          "name": "stdout",
          "text": [
            "AATGCTCTAGTA\n"
          ]
        }
      ]
    },
    {
      "cell_type": "code",
      "source": [
        "#change DNA strand to mRNA strand\n",
        "#function transcribe mengambil hasil coding strand baru ditranskripsi menjadi mRNA\n",
        "code_strand = main_seq.complement()\n",
        "mRNA = code_strand.transcribe()\n",
        "\n",
        "print('mRNA ', mRNA)\n"
      ],
      "metadata": {
        "colab": {
          "base_uri": "https://localhost:8080/"
        },
        "id": "UunSibvcIbzS",
        "outputId": "f7bb9bbc-8f1c-4639-8549-eaf672c39d83"
      },
      "execution_count": 21,
      "outputs": [
        {
          "output_type": "stream",
          "name": "stdout",
          "text": [
            "mRNA  AUGAUCUCGUAA\n"
          ]
        }
      ]
    },
    {
      "cell_type": "code",
      "source": [
        "#change mRNA strand back to DNA Strand\n",
        "#hasil back_transcribe adalah coding strand\n",
        "#jika mau mengembalikan ke template strand, harus di complement\n",
        "print('DNA            ', mRNA.back_transcribe())\n",
        "\n",
        "print('Template Strand', mRNA.back_transcribe().complement())\n",
        "\n",
        "\n",
        "coding_strand = mRNA.back_transcribe()\n",
        "template_strand = coding_strand.complement()\n",
        "print(coding_strand)\n",
        "print(template_strand)\n"
      ],
      "metadata": {
        "colab": {
          "base_uri": "https://localhost:8080/"
        },
        "id": "y3ELTCEaJidT",
        "outputId": "b3968a76-3527-456c-eccd-16b35e30d5a3"
      },
      "execution_count": 26,
      "outputs": [
        {
          "output_type": "stream",
          "name": "stdout",
          "text": [
            "DNA             ATGATCTCGTAA\n",
            "Template Strand TACTAGAGCATT\n",
            "ATGATCTCGTAA\n",
            "TACTAGAGCATT\n"
          ]
        }
      ]
    },
    {
      "cell_type": "markdown",
      "source": [
        "Standard Codon Chart"
      ],
      "metadata": {
        "id": "kOOBPiw2MQJH"
      }
    },
    {
      "cell_type": "markdown",
      "source": [
        "![image.png](data:image/png;base64,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)"
      ],
      "metadata": {
        "id": "tLAEJhmMML_o"
      }
    },
    {
      "cell_type": "code",
      "source": [
        "#change mRNA strand to polypeptide\n",
        "print(mRNA)\n",
        "#ditranslasi tiap codonnya\n",
        "#Met, Ile, Ser, Stop(*)\n",
        "mRNA.translate()"
      ],
      "metadata": {
        "colab": {
          "base_uri": "https://localhost:8080/"
        },
        "id": "vvTHWOqVK9u4",
        "outputId": "b01a702e-6033-4f9e-f91f-8747f642b111"
      },
      "execution_count": 28,
      "outputs": [
        {
          "output_type": "stream",
          "name": "stdout",
          "text": [
            "AUGAUCUCGUAA\n"
          ]
        },
        {
          "output_type": "execute_result",
          "data": {
            "text/plain": [
              "Seq('MIS*')"
            ]
          },
          "metadata": {},
          "execution_count": 28
        }
      ]
    },
    {
      "cell_type": "code",
      "source": [
        "#change stop symbol\n",
        "print(mRNA.translate(stop_symbol='^'))"
      ],
      "metadata": {
        "colab": {
          "base_uri": "https://localhost:8080/"
        },
        "id": "s5Wdy74xLswC",
        "outputId": "de3b9838-0c9f-4f69-e694-644d2642b093"
      },
      "execution_count": 29,
      "outputs": [
        {
          "output_type": "stream",
          "name": "stdout",
          "text": [
            "MIS^\n"
          ]
        }
      ]
    },
    {
      "cell_type": "code",
      "source": [
        "#change DNA strand to polypeptide\n",
        "coding_strand = main_seq.complement()\n",
        "print('main_seq : ', main_seq)\n",
        "print('coding_strand : ', coding_strand)\n",
        "#one letter sequence\n",
        "print(coding_strand.translate())"
      ],
      "metadata": {
        "colab": {
          "base_uri": "https://localhost:8080/"
        },
        "id": "f9Li122-MX4w",
        "outputId": "bed42f54-55c4-4c78-855b-43af01d5b310"
      },
      "execution_count": 33,
      "outputs": [
        {
          "output_type": "stream",
          "name": "stdout",
          "text": [
            "main_seq :  TACTAGAGCATT\n",
            "coding_strand :  ATGATCTCGTAA\n",
            "MIS*\n"
          ]
        }
      ]
    },
    {
      "cell_type": "code",
      "source": [
        "#change from template strand to polypeptide\n",
        "main_seq.complement().transcribe().translate()"
      ],
      "metadata": {
        "colab": {
          "base_uri": "https://localhost:8080/"
        },
        "id": "QYPhKHo4PkGd",
        "outputId": "179013ed-33a2-4153-ef3a-c403e5125a5d"
      },
      "execution_count": 53,
      "outputs": [
        {
          "output_type": "execute_result",
          "data": {
            "text/plain": [
              "Seq('MIS*')"
            ]
          },
          "metadata": {},
          "execution_count": 53
        }
      ]
    },
    {
      "cell_type": "code",
      "source": [
        "#untuk three letter sequence perlu import library baru\n",
        "from Bio.SeqUtils import seq3, seq1"
      ],
      "metadata": {
        "id": "qqK3fpwvM18_"
      },
      "execution_count": 32,
      "outputs": []
    },
    {
      "cell_type": "code",
      "source": [
        "#make polypeptide variable\n",
        "polypeptide = mRNA.translate()\n",
        "polypeptide"
      ],
      "metadata": {
        "colab": {
          "base_uri": "https://localhost:8080/"
        },
        "id": "1qXNTUQRM-WJ",
        "outputId": "8556510d-6d2d-4663-8ee5-5eea10d760dd"
      },
      "execution_count": 35,
      "outputs": [
        {
          "output_type": "execute_result",
          "data": {
            "text/plain": [
              "Seq('MIS*')"
            ]
          },
          "metadata": {},
          "execution_count": 35
        }
      ]
    },
    {
      "cell_type": "code",
      "source": [
        "#change to 3 letter sequence\n",
        "poly3 = seq3(polypeptide)\n",
        "print('poly3 : ', poly3)\n",
        "\n",
        "#change 3 letter sequence to 1 letter sequence\n",
        "poly1 = seq1(poly3)\n",
        "print('poly1 : ', poly1)"
      ],
      "metadata": {
        "colab": {
          "base_uri": "https://localhost:8080/"
        },
        "id": "QJkP40sONTHv",
        "outputId": "6ff5d04d-ecfc-4654-e0b8-7ccb10ded9a8"
      },
      "execution_count": 38,
      "outputs": [
        {
          "output_type": "stream",
          "name": "stdout",
          "text": [
            "poly3 :  MetIleSerTer\n",
            "poly1 :  MIS*\n"
          ]
        }
      ]
    },
    {
      "cell_type": "code",
      "source": [
        "#codon chart\n",
        "from Bio.Data import CodonTable as ct\n",
        "dir(ct)"
      ],
      "metadata": {
        "colab": {
          "base_uri": "https://localhost:8080/"
        },
        "id": "7YZriA0bOAqQ",
        "outputId": "9ea02faf-463c-4759-b9fd-ced71465ef9c"
      },
      "execution_count": 41,
      "outputs": [
        {
          "output_type": "execute_result",
          "data": {
            "text/plain": [
              "['AmbiguousCodonTable',\n",
              " 'AmbiguousForwardTable',\n",
              " 'CodonTable',\n",
              " 'IUPACData',\n",
              " 'NCBICodonTable',\n",
              " 'NCBICodonTableDNA',\n",
              " 'NCBICodonTableRNA',\n",
              " 'TranslationError',\n",
              " '__builtins__',\n",
              " '__cached__',\n",
              " '__doc__',\n",
              " '__file__',\n",
              " '__loader__',\n",
              " '__name__',\n",
              " '__package__',\n",
              " '__spec__',\n",
              " 'ambiguous_dna_by_id',\n",
              " 'ambiguous_dna_by_name',\n",
              " 'ambiguous_generic_by_id',\n",
              " 'ambiguous_generic_by_name',\n",
              " 'ambiguous_rna_by_id',\n",
              " 'ambiguous_rna_by_name',\n",
              " 'generic_by_id',\n",
              " 'generic_by_name',\n",
              " 'list_ambiguous_codons',\n",
              " 'list_possible_proteins',\n",
              " 'make_back_table',\n",
              " 'register_ncbi_table',\n",
              " 'standard_dna_table',\n",
              " 'standard_rna_table',\n",
              " 'unambiguous_dna_by_id',\n",
              " 'unambiguous_dna_by_name',\n",
              " 'unambiguous_rna_by_id',\n",
              " 'unambiguous_rna_by_name']"
            ]
          },
          "metadata": {},
          "execution_count": 41
        }
      ]
    },
    {
      "cell_type": "code",
      "source": [
        "print('DNA chart\\n', ct.unambiguous_dna_by_name['Standard'])\n",
        "print('DNA chart\\n', ct.unambiguous_dna_by_name['Vertebrate Mitochondrial'])\n"
      ],
      "metadata": {
        "colab": {
          "base_uri": "https://localhost:8080/"
        },
        "id": "u0zWAHMnOJ0v",
        "outputId": "83a2c563-d0bb-4b39-f713-ff1eb3dcb37e"
      },
      "execution_count": 51,
      "outputs": [
        {
          "output_type": "stream",
          "name": "stdout",
          "text": [
            "DNA chart\n",
            " Table 1 Standard, SGC0\n",
            "\n",
            "  |  T      |  C      |  A      |  G      |\n",
            "--+---------+---------+---------+---------+--\n",
            "T | TTT F   | TCT S   | TAT Y   | TGT C   | T\n",
            "T | TTC F   | TCC S   | TAC Y   | TGC C   | C\n",
            "T | TTA L   | TCA S   | TAA Stop| TGA Stop| A\n",
            "T | TTG L(s)| TCG S   | TAG Stop| TGG W   | G\n",
            "--+---------+---------+---------+---------+--\n",
            "C | CTT L   | CCT P   | CAT H   | CGT R   | T\n",
            "C | CTC L   | CCC P   | CAC H   | CGC R   | C\n",
            "C | CTA L   | CCA P   | CAA Q   | CGA R   | A\n",
            "C | CTG L(s)| CCG P   | CAG Q   | CGG R   | G\n",
            "--+---------+---------+---------+---------+--\n",
            "A | ATT I   | ACT T   | AAT N   | AGT S   | T\n",
            "A | ATC I   | ACC T   | AAC N   | AGC S   | C\n",
            "A | ATA I   | ACA T   | AAA K   | AGA R   | A\n",
            "A | ATG M(s)| ACG T   | AAG K   | AGG R   | G\n",
            "--+---------+---------+---------+---------+--\n",
            "G | GTT V   | GCT A   | GAT D   | GGT G   | T\n",
            "G | GTC V   | GCC A   | GAC D   | GGC G   | C\n",
            "G | GTA V   | GCA A   | GAA E   | GGA G   | A\n",
            "G | GTG V   | GCG A   | GAG E   | GGG G   | G\n",
            "--+---------+---------+---------+---------+--\n",
            "DNA chart\n",
            " Table 2 Vertebrate Mitochondrial, SGC1\n",
            "\n",
            "  |  T      |  C      |  A      |  G      |\n",
            "--+---------+---------+---------+---------+--\n",
            "T | TTT F   | TCT S   | TAT Y   | TGT C   | T\n",
            "T | TTC F   | TCC S   | TAC Y   | TGC C   | C\n",
            "T | TTA L   | TCA S   | TAA Stop| TGA W   | A\n",
            "T | TTG L   | TCG S   | TAG Stop| TGG W   | G\n",
            "--+---------+---------+---------+---------+--\n",
            "C | CTT L   | CCT P   | CAT H   | CGT R   | T\n",
            "C | CTC L   | CCC P   | CAC H   | CGC R   | C\n",
            "C | CTA L   | CCA P   | CAA Q   | CGA R   | A\n",
            "C | CTG L   | CCG P   | CAG Q   | CGG R   | G\n",
            "--+---------+---------+---------+---------+--\n",
            "A | ATT I(s)| ACT T   | AAT N   | AGT S   | T\n",
            "A | ATC I(s)| ACC T   | AAC N   | AGC S   | C\n",
            "A | ATA M(s)| ACA T   | AAA K   | AGA Stop| A\n",
            "A | ATG M(s)| ACG T   | AAG K   | AGG Stop| G\n",
            "--+---------+---------+---------+---------+--\n",
            "G | GTT V   | GCT A   | GAT D   | GGT G   | T\n",
            "G | GTC V   | GCC A   | GAC D   | GGC G   | C\n",
            "G | GTA V   | GCA A   | GAA E   | GGA G   | A\n",
            "G | GTG V(s)| GCG A   | GAG E   | GGG G   | G\n",
            "--+---------+---------+---------+---------+--\n"
          ]
        }
      ]
    },
    {
      "cell_type": "code",
      "source": [
        "print('RNA chart\\n', ct.unambiguous_rna_by_name['Standard'])\n",
        "print('RNA chart\\n', ct.unambiguous_rna_by_name['Vertebrate Mitochondrial'])\n"
      ],
      "metadata": {
        "colab": {
          "base_uri": "https://localhost:8080/"
        },
        "id": "sQxzhtyhPA-u",
        "outputId": "2cdf7e9f-f002-4954-e6e8-6a8f2625cdb7"
      },
      "execution_count": 52,
      "outputs": [
        {
          "output_type": "stream",
          "name": "stdout",
          "text": [
            "RNA chart\n",
            " Table 1 Standard, SGC0\n",
            "\n",
            "  |  U      |  C      |  A      |  G      |\n",
            "--+---------+---------+---------+---------+--\n",
            "U | UUU F   | UCU S   | UAU Y   | UGU C   | U\n",
            "U | UUC F   | UCC S   | UAC Y   | UGC C   | C\n",
            "U | UUA L   | UCA S   | UAA Stop| UGA Stop| A\n",
            "U | UUG L(s)| UCG S   | UAG Stop| UGG W   | G\n",
            "--+---------+---------+---------+---------+--\n",
            "C | CUU L   | CCU P   | CAU H   | CGU R   | U\n",
            "C | CUC L   | CCC P   | CAC H   | CGC R   | C\n",
            "C | CUA L   | CCA P   | CAA Q   | CGA R   | A\n",
            "C | CUG L(s)| CCG P   | CAG Q   | CGG R   | G\n",
            "--+---------+---------+---------+---------+--\n",
            "A | AUU I   | ACU T   | AAU N   | AGU S   | U\n",
            "A | AUC I   | ACC T   | AAC N   | AGC S   | C\n",
            "A | AUA I   | ACA T   | AAA K   | AGA R   | A\n",
            "A | AUG M(s)| ACG T   | AAG K   | AGG R   | G\n",
            "--+---------+---------+---------+---------+--\n",
            "G | GUU V   | GCU A   | GAU D   | GGU G   | U\n",
            "G | GUC V   | GCC A   | GAC D   | GGC G   | C\n",
            "G | GUA V   | GCA A   | GAA E   | GGA G   | A\n",
            "G | GUG V   | GCG A   | GAG E   | GGG G   | G\n",
            "--+---------+---------+---------+---------+--\n",
            "RNA chart\n",
            " Table 2 Vertebrate Mitochondrial, SGC1\n",
            "\n",
            "  |  U      |  C      |  A      |  G      |\n",
            "--+---------+---------+---------+---------+--\n",
            "U | UUU F   | UCU S   | UAU Y   | UGU C   | U\n",
            "U | UUC F   | UCC S   | UAC Y   | UGC C   | C\n",
            "U | UUA L   | UCA S   | UAA Stop| UGA W   | A\n",
            "U | UUG L   | UCG S   | UAG Stop| UGG W   | G\n",
            "--+---------+---------+---------+---------+--\n",
            "C | CUU L   | CCU P   | CAU H   | CGU R   | U\n",
            "C | CUC L   | CCC P   | CAC H   | CGC R   | C\n",
            "C | CUA L   | CCA P   | CAA Q   | CGA R   | A\n",
            "C | CUG L   | CCG P   | CAG Q   | CGG R   | G\n",
            "--+---------+---------+---------+---------+--\n",
            "A | AUU I(s)| ACU T   | AAU N   | AGU S   | U\n",
            "A | AUC I(s)| ACC T   | AAC N   | AGC S   | C\n",
            "A | AUA M(s)| ACA T   | AAA K   | AGA Stop| A\n",
            "A | AUG M(s)| ACG T   | AAG K   | AGG Stop| G\n",
            "--+---------+---------+---------+---------+--\n",
            "G | GUU V   | GCU A   | GAU D   | GGU G   | U\n",
            "G | GUC V   | GCC A   | GAC D   | GGC G   | C\n",
            "G | GUA V   | GCA A   | GAA E   | GGA G   | A\n",
            "G | GUG V(s)| GCG A   | GAG E   | GGG G   | G\n",
            "--+---------+---------+---------+---------+--\n"
          ]
        }
      ]
    },
    {
      "cell_type": "markdown",
      "source": [
        "Exercise"
      ],
      "metadata": {
        "id": "ubuw_tccP7ae"
      }
    },
    {
      "cell_type": "code",
      "source": [
        "#template strand\n",
        "!pip install Bio\n",
        "from Bio.Seq import Seq\n"
      ],
      "metadata": {
        "colab": {
          "base_uri": "https://localhost:8080/"
        },
        "id": "kzGhV6rcPA4N",
        "outputId": "77e76319-237d-4bb7-ee01-382438001a43"
      },
      "execution_count": 54,
      "outputs": [
        {
          "output_type": "stream",
          "name": "stdout",
          "text": [
            "Looking in indexes: https://pypi.org/simple, https://us-python.pkg.dev/colab-wheels/public/simple/\n",
            "Requirement already satisfied: Bio in /usr/local/lib/python3.9/dist-packages (1.5.8)\n",
            "Requirement already satisfied: gprofiler-official in /usr/local/lib/python3.9/dist-packages (from Bio) (1.0.0)\n",
            "Requirement already satisfied: pandas in /usr/local/lib/python3.9/dist-packages (from Bio) (1.4.4)\n",
            "Requirement already satisfied: requests in /usr/local/lib/python3.9/dist-packages (from Bio) (2.27.1)\n",
            "Requirement already satisfied: biopython>=1.80 in /usr/local/lib/python3.9/dist-packages (from Bio) (1.81)\n",
            "Requirement already satisfied: mygene in /usr/local/lib/python3.9/dist-packages (from Bio) (3.2.2)\n",
            "Requirement already satisfied: tqdm in /usr/local/lib/python3.9/dist-packages (from Bio) (4.65.0)\n",
            "Requirement already satisfied: pooch in /usr/local/lib/python3.9/dist-packages (from Bio) (1.6.0)\n",
            "Requirement already satisfied: numpy in /usr/local/lib/python3.9/dist-packages (from biopython>=1.80->Bio) (1.22.4)\n",
            "Requirement already satisfied: biothings-client>=0.2.6 in /usr/local/lib/python3.9/dist-packages (from mygene->Bio) (0.3.0)\n",
            "Requirement already satisfied: pytz>=2020.1 in /usr/local/lib/python3.9/dist-packages (from pandas->Bio) (2022.7.1)\n",
            "Requirement already satisfied: python-dateutil>=2.8.1 in /usr/local/lib/python3.9/dist-packages (from pandas->Bio) (2.8.2)\n",
            "Requirement already satisfied: packaging>=20.0 in /usr/local/lib/python3.9/dist-packages (from pooch->Bio) (23.0)\n",
            "Requirement already satisfied: appdirs>=1.3.0 in /usr/local/lib/python3.9/dist-packages (from pooch->Bio) (1.4.4)\n",
            "Requirement already satisfied: certifi>=2017.4.17 in /usr/local/lib/python3.9/dist-packages (from requests->Bio) (2022.12.7)\n",
            "Requirement already satisfied: charset-normalizer~=2.0.0 in /usr/local/lib/python3.9/dist-packages (from requests->Bio) (2.0.12)\n",
            "Requirement already satisfied: idna<4,>=2.5 in /usr/local/lib/python3.9/dist-packages (from requests->Bio) (3.4)\n",
            "Requirement already satisfied: urllib3<1.27,>=1.21.1 in /usr/local/lib/python3.9/dist-packages (from requests->Bio) (1.26.15)\n",
            "Requirement already satisfied: six>=1.5 in /usr/local/lib/python3.9/dist-packages (from python-dateutil>=2.8.1->pandas->Bio) (1.16.0)\n"
          ]
        }
      ]
    },
    {
      "cell_type": "code",
      "source": [
        "seq0 = Seq('GGAGTCGCTATT')\n",
        "code_strand0 = seq0.complement()\n",
        "mrna0 = seq0.complement().transcribe()\n",
        "polypeptide3 = seq3(mrna0.translate())\n",
        "\n",
        "#template strand\n",
        "print(seq0)\n",
        "#coding strand\n",
        "print(code_strand0)\n",
        "#mRNA strand\n",
        "print(mrna0)\n",
        "#mRNA translated\n",
        "print(mrna0.translate())\n",
        "#mRNA translated into polypeptide, 3 letter sequenced\n",
        "print('polypeptide :' + polypeptide3)"
      ],
      "metadata": {
        "colab": {
          "base_uri": "https://localhost:8080/"
        },
        "id": "t6oZJOl-QN8n",
        "outputId": "2a087fb7-25d8-4df8-89ec-dd2141ed341f"
      },
      "execution_count": 67,
      "outputs": [
        {
          "output_type": "stream",
          "name": "stdout",
          "text": [
            "GGAGTCGCTATT\n",
            "CCTCAGCGATAA\n",
            "CCUCAGCGAUAA\n",
            "PQR*\n",
            "polypeptide :ProGlnArgTer\n"
          ]
        }
      ]
    },
    {
      "cell_type": "code",
      "source": [
        "print(ct.unambiguous_rna_by_name['Standard'])"
      ],
      "metadata": {
        "colab": {
          "base_uri": "https://localhost:8080/"
        },
        "id": "lPKGk-UnRRcM",
        "outputId": "100ccada-a8c1-4925-9414-13b9d7265a3a"
      },
      "execution_count": 63,
      "outputs": [
        {
          "output_type": "stream",
          "name": "stdout",
          "text": [
            "Table 1 Standard, SGC0\n",
            "\n",
            "  |  U      |  C      |  A      |  G      |\n",
            "--+---------+---------+---------+---------+--\n",
            "U | UUU F   | UCU S   | UAU Y   | UGU C   | U\n",
            "U | UUC F   | UCC S   | UAC Y   | UGC C   | C\n",
            "U | UUA L   | UCA S   | UAA Stop| UGA Stop| A\n",
            "U | UUG L(s)| UCG S   | UAG Stop| UGG W   | G\n",
            "--+---------+---------+---------+---------+--\n",
            "C | CUU L   | CCU P   | CAU H   | CGU R   | U\n",
            "C | CUC L   | CCC P   | CAC H   | CGC R   | C\n",
            "C | CUA L   | CCA P   | CAA Q   | CGA R   | A\n",
            "C | CUG L(s)| CCG P   | CAG Q   | CGG R   | G\n",
            "--+---------+---------+---------+---------+--\n",
            "A | AUU I   | ACU T   | AAU N   | AGU S   | U\n",
            "A | AUC I   | ACC T   | AAC N   | AGC S   | C\n",
            "A | AUA I   | ACA T   | AAA K   | AGA R   | A\n",
            "A | AUG M(s)| ACG T   | AAG K   | AGG R   | G\n",
            "--+---------+---------+---------+---------+--\n",
            "G | GUU V   | GCU A   | GAU D   | GGU G   | U\n",
            "G | GUC V   | GCC A   | GAC D   | GGC G   | C\n",
            "G | GUA V   | GCA A   | GAA E   | GGA G   | A\n",
            "G | GUG V   | GCG A   | GAG E   | GGG G   | G\n",
            "--+---------+---------+---------+---------+-- Table 1 Standard, SGC0\n",
            "\n",
            "  |  U      |  C      |  A      |  G      |\n",
            "--+---------+---------+---------+---------+--\n",
            "U | UUU F   | UCU S   | UAU Y   | UGU C   | U\n",
            "U | UUC F   | UCC S   | UAC Y   | UGC C   | C\n",
            "U | UUA L   | UCA S   | UAA Stop| UGA Stop| A\n",
            "U | UUG L(s)| UCG S   | UAG Stop| UGG W   | G\n",
            "--+---------+---------+---------+---------+--\n",
            "C | CUU L   | CCU P   | CAU H   | CGU R   | U\n",
            "C | CUC L   | CCC P   | CAC H   | CGC R   | C\n",
            "C | CUA L   | CCA P   | CAA Q   | CGA R   | A\n",
            "C | CUG L(s)| CCG P   | CAG Q   | CGG R   | G\n",
            "--+---------+---------+---------+---------+--\n",
            "A | AUU I   | ACU T   | AAU N   | AGU S   | U\n",
            "A | AUC I   | ACC T   | AAC N   | AGC S   | C\n",
            "A | AUA I   | ACA T   | AAA K   | AGA R   | A\n",
            "A | AUG M(s)| ACG T   | AAG K   | AGG R   | G\n",
            "--+---------+---------+---------+---------+--\n",
            "G | GUU V   | GCU A   | GAU D   | GGU G   | U\n",
            "G | GUC V   | GCC A   | GAC D   | GGC G   | C\n",
            "G | GUA V   | GCA A   | GAA E   | GGA G   | A\n",
            "G | GUG V   | GCG A   | GAG E   | GGG G   | G\n",
            "--+---------+---------+---------+---------+--\n"
          ]
        }
      ]
    },
    {
      "cell_type": "markdown",
      "source": [
        "unambiguous codon : codes for 1 amino acids\n",
        "ambiguous codon : codes for more than 1 amino acids"
      ],
      "metadata": {
        "id": "S7dEDh_pUL6a"
      }
    }
  ]
}