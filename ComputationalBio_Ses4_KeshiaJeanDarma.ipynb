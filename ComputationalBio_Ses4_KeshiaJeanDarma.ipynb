{
  "cells": [
    {
      "cell_type": "markdown",
      "metadata": {
        "id": "view-in-github",
        "colab_type": "text"
      },
      "source": [
        "<a href=\"https://colab.research.google.com/github/KlaineK/CompBio2023/blob/main/ComputationalBio_Ses4_KeshiaJeanDarma.ipynb\" target=\"_parent\"><img src=\"https://colab.research.google.com/assets/colab-badge.svg\" alt=\"Open In Colab\"/></a>"
      ]
    },
    {
      "cell_type": "code",
      "execution_count": null,
      "metadata": {
        "id": "UIL5rtTJoA5t",
        "outputId": "75133a7a-fe9d-401a-aee2-0f7d6eab1699"
      },
      "outputs": [
        {
          "name": "stdout",
          "output_type": "stream",
          "text": [
            "Requirement already satisfied: biopython in c:\\anaconda3\\envs\\comp_bio\\lib\\site-packages (1.78)\n",
            "Requirement already satisfied: numpy in c:\\anaconda3\\envs\\comp_bio\\lib\\site-packages (from biopython) (1.21.5)\n",
            "Note: you may need to restart the kernel to use updated packages.\n"
          ]
        },
        {
          "name": "stderr",
          "output_type": "stream",
          "text": [
            "WARNING: There was an error checking the latest version of pip.\n"
          ]
        }
      ],
      "source": [
        "%pip install biopython"
      ]
    },
    {
      "cell_type": "code",
      "execution_count": null,
      "metadata": {
        "id": "klT08t8soA5y"
      },
      "outputs": [],
      "source": [
        "#impot sequence\n",
        "import Bio\n",
        "from Bio.Seq import Seq"
      ]
    },
    {
      "cell_type": "code",
      "execution_count": null,
      "metadata": {
        "id": "EEMuTCBDoA5z",
        "outputId": "3a85df40-b41a-4e19-bc83-2f9fe38bad5a"
      },
      "outputs": [
        {
          "name": "stdout",
          "output_type": "stream",
          "text": [
            "CGATAGTACT CGTATG\n"
          ]
        }
      ],
      "source": [
        "Seq1 = Seq('CGATAGTACT')\n",
        "Seq2 = Seq('CGTATG')\n",
        "\n",
        "print(Seq1, Seq2)"
      ]
    },
    {
      "cell_type": "code",
      "execution_count": null,
      "metadata": {
        "id": "QBxVWF3VoA5z"
      },
      "outputs": [],
      "source": [
        "#Alignment\n",
        "from Bio import pairwise2\n",
        "from Bio.pairwise2 import format_alignment"
      ]
    },
    {
      "cell_type": "code",
      "execution_count": null,
      "metadata": {
        "id": "0eqQmFOWoA50",
        "outputId": "b624e6bb-793a-4cfe-af7a-c219935d56b9"
      },
      "outputs": [
        {
          "name": "stdout",
          "output_type": "stream",
          "text": [
            "Alignment(seqA='CGATAGTACT-', seqB='C----GTA-TG', score=5.0, start=0, end=11)\n",
            "Alignment(seqA='CGATAGTACT-', seqB='CG----TA-TG', score=5.0, start=0, end=11)\n",
            "Alignment(seqA='CGATAGTACT-', seqB='CG-T---A-TG', score=5.0, start=0, end=11)\n",
            "Alignment(seqA='CGATAGTACT-', seqB='CG-TA----TG', score=5.0, start=0, end=11)\n",
            "Alignment(seqA='CGATAGTACT-', seqB='CG-TA-T---G', score=5.0, start=0, end=11)\n",
            "Alignment(seqA='CGATAGTACT', seqB='CG-TA-T--G', score=5.0, start=0, end=10)\n",
            "Alignment(seqA='CGATAGTACT', seqB='CG-TA-T-G-', score=5.0, start=0, end=10)\n",
            "Alignment(seqA='CGATAGTACT', seqB='CG-TA-TG--', score=5.0, start=0, end=10)\n",
            "Alignment(seqA='CGATA-GTACT', seqB='CG-TATG----', score=5.0, start=0, end=11)\n",
            "Alignment(seqA='CG-ATAGTACT', seqB='CGTAT-G----', score=5.0, start=0, end=11)\n",
            "\n",
            "\n",
            "CGATAGTACT-\n",
            "|    ||| | \n",
            "C----GTA-TG\n",
            "  Score=5\n",
            "\n",
            "CGATAGTACT-\n",
            "||    || | \n",
            "CG----TA-TG\n",
            "  Score=5\n",
            "\n",
            "CGATAGTACT-\n",
            "|| |   | | \n",
            "CG-T---A-TG\n",
            "  Score=5\n",
            "\n",
            "CGATAGTACT-\n",
            "|| ||    | \n",
            "CG-TA----TG\n",
            "  Score=5\n",
            "\n",
            "CGATAGTACT-\n",
            "|| || |    \n",
            "CG-TA-T---G\n",
            "  Score=5\n",
            "\n",
            "CGATAGTACT\n",
            "|| || |  .\n",
            "CG-TA-T--G\n",
            "  Score=5\n",
            "\n",
            "CGATAGTACT\n",
            "|| || | . \n",
            "CG-TA-T-G-\n",
            "  Score=5\n",
            "\n",
            "CGATAGTACT\n",
            "|| || |.  \n",
            "CG-TA-TG--\n",
            "  Score=5\n",
            "\n",
            "CGATA-GTACT\n",
            "|| || |    \n",
            "CG-TATG----\n",
            "  Score=5\n",
            "\n",
            "CG-ATAGTACT\n",
            "|| || |    \n",
            "CGTAT-G----\n",
            "  Score=5\n",
            "\n"
          ]
        }
      ],
      "source": [
        "#creating global alignment\n",
        "#globalxx(x,y)\n",
        "#x for initial sequence, y for compared sequence\n",
        "global_alignment = pairwise2.align.globalxx(Seq1, Seq2)\n",
        "\n",
        "for align in global_alignment: \n",
        "    print(align)\n",
        "\n",
        "print('\\n')\n",
        "for align in global_alignment: \n",
        "    print(format_alignment(*align))\n",
        "\n",
        "#default score :\n",
        "#match : 1\n"
      ]
    },
    {
      "cell_type": "code",
      "execution_count": null,
      "metadata": {
        "id": "RqknHWkCoA51",
        "outputId": "1e413f64-b1be-489c-df32-abf17b94ba23"
      },
      "outputs": [
        {
          "name": "stdout",
          "output_type": "stream",
          "text": [
            "1 CGATAGTACT\n",
            "  |    ||| |\n",
            "1 C----GTA-T\n",
            "  Score=5\n",
            "\n",
            "1 CGATAGTACT\n",
            "  ||    || |\n",
            "1 CG----TA-T\n",
            "  Score=5\n",
            "\n",
            "1 CGATAGTACT\n",
            "  || |   | |\n",
            "1 CG-T---A-T\n",
            "  Score=5\n",
            "\n",
            "1 CGATAGTACT\n",
            "  || ||    |\n",
            "1 CG-TA----T\n",
            "  Score=5\n",
            "\n",
            "1 CGATAGT\n",
            "  || || |\n",
            "1 CG-TA-T\n",
            "  Score=5\n",
            "\n",
            "1 CGATA-G\n",
            "  || || |\n",
            "1 CG-TATG\n",
            "  Score=5\n",
            "\n",
            "1 CG-ATAG\n",
            "  || || |\n",
            "1 CGTAT-G\n",
            "  Score=5\n",
            "\n"
          ]
        }
      ],
      "source": [
        "#Local Alignment\n",
        "local_alignment = pairwise2.align.localxx(Seq1, Seq2)\n",
        "\n",
        "for align in local_alignment:\n",
        "    print(format_alignment(*align))"
      ]
    },
    {
      "cell_type": "code",
      "execution_count": null,
      "metadata": {
        "id": "pKAeqXbToA52",
        "outputId": "7b23301e-60ee-4765-94af-2721cb3d9b15"
      },
      "outputs": [
        {
          "name": "stdout",
          "output_type": "stream",
          "text": [
            "CGATAGTACT-\n",
            "|    ||| | \n",
            "C----GTA-TG\n",
            "  Score=8.2\n",
            "\n",
            "CGATAGTACT-\n",
            "||    || | \n",
            "CG----TA-TG\n",
            "  Score=8.2\n",
            "\n",
            "CGATAGTACT-\n",
            "|| ||    | \n",
            "CG-TA----TG\n",
            "  Score=8.2\n",
            "\n",
            "CGATA-GTACT\n",
            "|| || |    \n",
            "CG-TATG----\n",
            "  Score=8.2\n",
            "\n",
            "CG-ATAGTACT\n",
            "|| || |    \n",
            "CGTAT-G----\n",
            "  Score=8.2\n",
            "\n"
          ]
        }
      ],
      "source": [
        "#example case :\n",
        "# match : 2.0\n",
        "# mismatch : -1.0\n",
        "# gap : -0.5\n",
        "# extend : -0.1\n",
        "\n",
        "# extend : gap berurutan setelah gap(gap pertama masih disebut gap, tapi untuk berikutnya disebut extend) \n",
        "\n",
        "#global alignment\n",
        "#urutan parameter score : match, mismatch, gap, extend\n",
        "example_alignment = pairwise2.align.globalms(Seq1, Seq2, 2, -1, -0.5, -0.1)\n",
        "for align in example_alignment :\n",
        "    print(format_alignment(*align))"
      ]
    },
    {
      "cell_type": "code",
      "execution_count": null,
      "metadata": {
        "id": "vJGEM5AHoA53",
        "outputId": "be09423c-5b11-4245-ee5d-66dfad134c5e"
      },
      "outputs": [
        {
          "name": "stdout",
          "output_type": "stream",
          "text": [
            "5.0\n",
            "Similarity 50.0 %\n"
          ]
        }
      ],
      "source": [
        "# showing only one alignment and its score\n",
        "#attribute/parameter 'one_alignment_only' untuk menunjukkan satu saja\n",
        "#'score_only' untuk menunjukkan score saja\n",
        "\n",
        "global_score = pairwise2.align.globalxx(Seq1, Seq2, one_alignment_only = True, score_only = True)\n",
        "\n",
        "print(global_score)\n",
        "\n",
        "#similarity percentage\n",
        "similarity = global_score / len(Seq1) * 100\n",
        "\n",
        "print('Similarity', similarity, '%')"
      ]
    },
    {
      "cell_type": "markdown",
      "metadata": {
        "id": "-kkCCp4JoA54"
      },
      "source": [
        "Hamming Distance\n",
        "menunjukkan total jumlah value yang berbeda.\n",
        "\n",
        "Levenshtein distance\n",
        "Menunjukkan berapa kali tindakan yang harus dilakukan untuk menyamakan perbedaan sequence"
      ]
    },
    {
      "cell_type": "code",
      "execution_count": null,
      "metadata": {
        "id": "BER30G4poA57",
        "outputId": "8ff5fcdc-d624-4111-ebc0-b59f751a78db"
      },
      "outputs": [
        {
          "name": "stdout",
          "output_type": "stream",
          "text": [
            "CGATAGTACT\n",
            "CGTATG\n",
            "[('A', 'T'), ('T', 'A'), ('A', 'T')]\n",
            "Hamming distance value : 3\n"
          ]
        }
      ],
      "source": [
        "#Hamming distance \n",
        "#zip untuk menggabungkan sequence dalam parameter sehingga bisa dibandingkan\n",
        "\n",
        "print(Seq1)\n",
        "print(Seq2)\n",
        "\n",
        "def hamming_distance(seq1, seq2):\n",
        "    if(len(seq1) != len(seq2)):\n",
        "        return 0\n",
        "    else:\n",
        "        data = [(seq1, seq2) for seq1, seq2 in zip(seq1, seq2) if (seq1 != seq2)]\n",
        "        print(data)\n",
        "        return len(data)\n",
        "\n",
        "hamming_value = hamming_distance(Seq1, Seq2)\n",
        "print('Hamming distance value :', hamming_value)"
      ]
    },
    {
      "cell_type": "code",
      "execution_count": null,
      "metadata": {
        "id": "L-tSl4PioA58"
      },
      "outputs": [],
      "source": [
        "#Levenshtein distance \n",
        "#bisa digunakan untuk sequence yang panjangnya beda\n",
        "\n",
        "#jika sudah terinstall :\n",
        "from Levenshtein import distance\n",
        "#atau jika belum terinstall : \n",
        "#%pip install python-Levenshtein"
      ]
    },
    {
      "cell_type": "code",
      "execution_count": null,
      "metadata": {
        "id": "9xLDmqSSoA59",
        "outputId": "92c503d8-c729-491e-e09a-0678126e35ea"
      },
      "outputs": [
        {
          "name": "stdout",
          "output_type": "stream",
          "text": [
            "CGATAGTACT\n",
            "CGTATG\n",
            "Levenshtein distance value :  5\n"
          ]
        }
      ],
      "source": [
        "\n",
        "print(Seq1)\n",
        "print(Seq2)\n",
        "print('Levenshtein distance value : ', distance(Seq1, Seq2))\n",
        "\n",
        "#valuenya ada 5, karena Seq2 ditambahi T di urutan ke 3, dan ditambahi TACT di akhir"
      ]
    },
    {
      "cell_type": "markdown",
      "metadata": {
        "id": "aJphFlt-oA5-"
      },
      "source": [
        "DotPlot"
      ]
    },
    {
      "cell_type": "code",
      "execution_count": null,
      "metadata": {
        "id": "fS2eF2wQoA5_"
      },
      "outputs": [],
      "source": [
        "#dotplot\n",
        "import matplotlib.pyplot as plt\n",
        "import numpy "
      ]
    },
    {
      "cell_type": "code",
      "execution_count": null,
      "metadata": {
        "id": "paApB4LIoA6A",
        "outputId": "898ee79d-c861-418c-9aca-64757ac6a6f8"
      },
      "outputs": [
        {
          "name": "stdout",
          "output_type": "stream",
          "text": [
            "[[1, 0, 0, 0, 0, 0], [0, 1, 0, 0, 0, 1], [0, 0, 0, 1, 0, 0], [0, 0, 1, 0, 1, 0], [0, 0, 0, 1, 0, 0], [0, 1, 0, 0, 0, 1], [0, 0, 1, 0, 1, 0], [0, 0, 0, 1, 0, 0], [1, 0, 0, 0, 0, 0], [0, 0, 1, 0, 1, 0]]\n"
          ]
        }
      ],
      "source": [
        "#functions :\n",
        "\n",
        "def check(x, y):\n",
        "    if(x == y ): \n",
        "        return 1\n",
        "    else :\n",
        "        return 0\n",
        "\n",
        "def matrix(seq1, seq2):\n",
        "    len_seq1 = len(seq1)\n",
        "    len_seq2 = len(seq2)\n",
        "    #seperti nested for di C\n",
        "    #for(int i...)\n",
        "    #   for(int j...)\n",
        "    return [[check(seq1[i], seq2[j]) for j in range(len_seq2) ] for i in range(len_seq1)]\n",
        "\n",
        "print(matrix(Seq1, Seq2))"
      ]
    },
    {
      "cell_type": "code",
      "execution_count": null,
      "metadata": {
        "id": "t9_AfZCkoA6B",
        "outputId": "e06de114-c4e4-45c5-80b9-983d93846513"
      },
      "outputs": [
        {
          "data": {
            "image/png": "[encoded data removed]",
            "text/plain": [
              "<Figure size 640x480 with 1 Axes>"
            ]
          },
          "metadata": {},
          "output_type": "display_data"
        }
      ],
      "source": [
        "#dotplot\n",
        "\n",
        "result = matrix(Seq1, Seq2)\n",
        "dotplot = plt.imshow(numpy.array(result))\n",
        "#x-axis labeling\n",
        "xLabel = plt.xticks(numpy.arange(len(Seq2)), Seq2)\n",
        "yLabel = plt.yticks(numpy.arange(len(Seq1)), Seq1)"
      ]
    },
    {
      "cell_type": "markdown",
      "metadata": {
        "id": "87cLr0m8oA6C"
      },
      "source": [
        "Exercise"
      ]
    },
    {
      "cell_type": "code",
      "execution_count": null,
      "metadata": {
        "id": "AFLnfPLMoA6C"
      },
      "outputs": [],
      "source": [
        "import Bio\n",
        "from Bio.Seq import Seq\n",
        "from Bio import pairwise2\n",
        "from Bio.pairwise2 import format_alignment\n",
        "seqa = Seq('AAGCTTAGCTAGAGCAGTCAGCTAGCTAGCT')\n",
        "seqb = Seq('TCTGAAGCTAGCTAGTGCATAGCTAGCTAGC')"
      ]
    },
    {
      "cell_type": "code",
      "execution_count": null,
      "metadata": {
        "id": "eb1Uy06goA6D",
        "outputId": "b144f006-e309-4765-f6ee-357618f9c2d4"
      },
      "outputs": [
        {
          "name": "stdout",
          "output_type": "stream",
          "text": [
            "Alignment(seqA='----AAGCTTAGCTAGA-GCAGTCAGCTAGCTAGCT', seqB='TCTGAAGC-TAGCTAG-TGCA-T-AGCTAGCTAGC-', score=26.0, start=4, end=35)\n",
            "1 AAGCTTAGCTAGA-GCAGTCAGCTAGCTAGC\n",
            "  |||| |||||||  ||| | |||||||||||\n",
            "5 AAGC-TAGCTAG-TGCA-T-AGCTAGCTAGC\n",
            "  Score=26\n",
            "\n",
            "Alignment(seqA='----AAGCTTAGCTAGA-GCAGTCAGCTAGCTAGCT', seqB='TCTGAAGCT-AGCTAG-TGCA-T-AGCTAGCTAGC-', score=26.0, start=4, end=35)\n",
            "1 AAGCTTAGCTAGA-GCAGTCAGCTAGCTAGC\n",
            "  ||||| ||||||  ||| | |||||||||||\n",
            "5 AAGCT-AGCTAG-TGCA-T-AGCTAGCTAGC\n",
            "  Score=26\n",
            "\n",
            "Alignment(seqA='----AAGCTTAGCTAGAGCAGTCAGCTAGCTAGCT', seqB='TCTGAAGC-TAGCTAGTGCA-T-AGCTAGCTAGC-', score=26.0, start=4, end=34)\n",
            "1 AAGCTTAGCTAGAGCAGTCAGCTAGCTAGC\n",
            "  |||| |||||||.||| | |||||||||||\n",
            "5 AAGC-TAGCTAGTGCA-T-AGCTAGCTAGC\n",
            "  Score=26\n",
            "\n",
            "Alignment(seqA='----AAGCTTAGCTAGAGCAGTCAGCTAGCTAGCT', seqB='TCTGAAGCT-AGCTAGTGCA-T-AGCTAGCTAGC-', score=26.0, start=4, end=34)\n",
            "1 AAGCTTAGCTAGAGCAGTCAGCTAGCTAGC\n",
            "  ||||| ||||||.||| | |||||||||||\n",
            "5 AAGCT-AGCTAGTGCA-T-AGCTAGCTAGC\n",
            "  Score=26\n",
            "\n"
          ]
        }
      ],
      "source": [
        "#local alignment \n",
        "local_align = pairwise2.align.localxx(seqa, seqb)\n",
        "\n",
        "for align in local_align:\n",
        "    print(align)\n",
        "    print(format_alignment(*align))"
      ]
    },
    {
      "cell_type": "code",
      "execution_count": null,
      "metadata": {
        "id": "NvcDygYVoA6D",
        "outputId": "84ca3acc-0045-4910-aa16-cfddcc30ade2"
      },
      "outputs": [
        {
          "name": "stdout",
          "output_type": "stream",
          "text": [
            "[('A', 'T'), ('A', 'C'), ('G', 'T'), ('C', 'G'), ('T', 'A'), ('T', 'A'), ('A', 'G'), ('G', 'C'), ('C', 'T'), ('T', 'A'), ('A', 'G'), ('G', 'C'), ('A', 'T'), ('G', 'A'), ('C', 'G'), ('A', 'T'), ('T', 'C'), ('C', 'A'), ('A', 'T'), ('G', 'A'), ('C', 'G'), ('T', 'C'), ('A', 'T'), ('G', 'A'), ('C', 'G'), ('T', 'C'), ('A', 'T'), ('G', 'A'), ('C', 'G'), ('T', 'C')]\n",
            "Hamming distance value :  30\n"
          ]
        }
      ],
      "source": [
        "#Hamming distance\n",
        "\n",
        "def hamming_dist(sqa, sqb):\n",
        "    if(len(sqa) != len(sqb)):\n",
        "        return 0\n",
        "    else:\n",
        "        data = [(sqa,sqb) for sqa, sqb in zip(sqa, sqb) if (sqa != sqb)]\n",
        "        print(data)\n",
        "        return len(data)\n",
        "\n",
        "print('Hamming distance value : ', hamming_dist(seqa, seqb))"
      ]
    },
    {
      "cell_type": "code",
      "execution_count": null,
      "metadata": {
        "id": "C42AkqxboA6D",
        "outputId": "1864a0f2-ccf6-4728-9498-20c7523aedec"
      },
      "outputs": [
        {
          "name": "stdout",
          "output_type": "stream",
          "text": [
            "Levenshtein distance value :  9\n"
          ]
        }
      ],
      "source": [
        "#Levenshtein distance\n",
        "\n",
        "from Levenshtein import distance \n",
        "print('Levenshtein distance value : ', distance(seqa, seqb))"
      ]
    },
    {
      "cell_type": "code",
      "execution_count": null,
      "metadata": {
        "id": "Pi9uYuVgoA6E",
        "outputId": "48ff6d35-7c8f-4605-9f91-4ba294137101"
      },
      "outputs": [
        {
          "data": {
            "image/png": "[encoded data removed]",
            "text/plain": [
              "<Figure size 640x480 with 1 Axes>"
            ]
          },
          "metadata": {},
          "output_type": "display_data"
        }
      ],
      "source": [
        "import matplotlib.pyplot as plt\n",
        "import numpy\n",
        "\n",
        "def cekk(x, y):\n",
        "    if(x == y ): \n",
        "        return 1\n",
        "    else :\n",
        "        return 0\n",
        "\n",
        "def matriks(seqa, seqb):\n",
        "    len_seq1 = len(seqa)\n",
        "    len_seq2 = len(seqb)\n",
        "    #seperti nested for di C\n",
        "    #for(int i...)\n",
        "    #   for(int j...)\n",
        "    return [[check(seqa[i], seqb[j]) for j in range(len_seq2) ] for i in range(len_seq1)]\n",
        "\n",
        "matrik = matriks(seqa, seqb)\n",
        "plotting = plt.imshow(numpy.array(matrik))\n",
        "axisx = plt.xticks(numpy.arange(len(seqb)), seqb)\n",
        "axisy = plt.yticks(numpy.arange(len(seqa)), seqa)"
      ]
    }
  ],
  "metadata": {
    "kernelspec": {
      "display_name": "Python 3.7.6 ('comp_bio')",
      "language": "python",
      "name": "python3"
    },
    "language_info": {
      "codemirror_mode": {
        "name": "ipython",
        "version": 3
      },
      "file_extension": ".py",
      "mimetype": "text/x-python",
      "name": "python",
      "nbconvert_exporter": "python",
      "pygments_lexer": "ipython3",
      "version": "3.7.6"
    },
    "orig_nbformat": 4,
    "vscode": {
      "interpreter": {
        "hash": "e9f22baacef7ea00cb208ee402984e4c483b89bb6c8ef8b451e56e747e181f0d"
      }
    },
    "colab": {
      "provenance": [],
      "include_colab_link": true
    }
  },
  "nbformat": 4,
  "nbformat_minor": 0
}