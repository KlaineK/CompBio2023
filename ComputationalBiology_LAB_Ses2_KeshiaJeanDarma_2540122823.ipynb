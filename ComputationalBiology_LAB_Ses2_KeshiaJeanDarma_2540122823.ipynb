{
  "nbformat": 4,
  "nbformat_minor": 0,
  "metadata": {
    "colab": {
      "provenance": [],
      "collapsed_sections": [
        "3xA6qQVE8AR6"
      ],
      "authorship_tag": "ABX9TyP/c7vjC/jxgIBtjxx8U+bP",
      "include_colab_link": true
    },
    "kernelspec": {
      "name": "python3",
      "display_name": "Python 3"
    },
    "language_info": {
      "name": "python"
    }
  },
  "cells": [
    {
      "cell_type": "markdown",
      "metadata": {
        "id": "view-in-github",
        "colab_type": "text"
      },
      "source": [
        "<a href=\"https://colab.research.google.com/github/KlaineK/CompBio2023/blob/main/ComputationalBiology_LAB_Ses2_KeshiaJeanDarma_2540122823.ipynb\" target=\"_parent\"><img src=\"https://colab.research.google.com/assets/colab-badge.svg\" alt=\"Open In Colab\"/></a>"
      ]
    },
    {
      "cell_type": "markdown",
      "source": [
        "#Session 2\n",
        "Course outline\n",
        "\n",
        "\n",
        "*   GC and AT composition\n",
        "*   Melting Point of DNA\n",
        "*   Nucleotide Molecular Weight\n",
        "\n",
        "\n"
      ],
      "metadata": {
        "id": "_lbCV45h3Ehz"
      }
    },
    {
      "cell_type": "code",
      "execution_count": 1,
      "metadata": {
        "colab": {
          "base_uri": "https://localhost:8080/"
        },
        "id": "4h2JPrE_2yvO",
        "outputId": "2162290c-9535-43e9-e20a-2ea1a3e8c1df"
      },
      "outputs": [
        {
          "output_type": "stream",
          "name": "stdout",
          "text": [
            "Looking in indexes: https://pypi.org/simple, https://us-python.pkg.dev/colab-wheels/public/simple/\n",
            "Collecting biopython\n",
            "  Downloading biopython-1.81-cp38-cp38-manylinux_2_17_x86_64.manylinux2014_x86_64.whl (3.1 MB)\n",
            "\u001b[2K     \u001b[90m━━━━━━━━━━━━━━━━━━━━━━━━━━━━━━━━━━━━━━━━\u001b[0m \u001b[32m3.1/3.1 MB\u001b[0m \u001b[31m33.8 MB/s\u001b[0m eta \u001b[36m0:00:00\u001b[0m\n",
            "\u001b[?25hRequirement already satisfied: numpy in /usr/local/lib/python3.8/dist-packages (from biopython) (1.22.4)\n",
            "Installing collected packages: biopython\n",
            "Successfully installed biopython-1.81\n"
          ]
        }
      ],
      "source": [
        "!pip install biopython"
      ]
    },
    {
      "cell_type": "code",
      "source": [
        "from Bio.Seq import Seq"
      ],
      "metadata": {
        "id": "VJ8Nn4QH7Zxq"
      },
      "execution_count": 3,
      "outputs": []
    },
    {
      "cell_type": "code",
      "source": [
        "#Create Sequence\n",
        "seq1 = Seq('CGATCGATCGAT')\n",
        "seq2 = Seq('ATATATCGAT')\n"
      ],
      "metadata": {
        "id": "1yoH-GmB7qdi"
      },
      "execution_count": 5,
      "outputs": []
    },
    {
      "cell_type": "markdown",
      "source": [
        "#GC content"
      ],
      "metadata": {
        "id": "3xA6qQVE8AR6"
      }
    },
    {
      "cell_type": "code",
      "source": [
        "#GC Manual 1 \n",
        "def gc_content(seq):\n",
        "  #menghitung jumlah protein tertentu di dalam 1 sequence\n",
        "  result = float(seq.count('G')+ seq.count('C')) / len(seq)\n",
        "  return result * 100\n",
        "\n",
        "#dalam persen\n",
        "gc_content(seq1)\n",
        "\n",
        "print('GC seq1 :', gc_content(seq1), '%')\n",
        "print('GC seq2 :', gc_content(seq2), '%')"
      ],
      "metadata": {
        "colab": {
          "base_uri": "https://localhost:8080/"
        },
        "id": "sHD0MW578CqJ",
        "outputId": "64f522ed-54cb-4fbe-e4b2-b578387712e9"
      },
      "execution_count": 26,
      "outputs": [
        {
          "output_type": "stream",
          "name": "stdout",
          "text": [
            "GC seq1 : 50.0 %\n",
            "GC seq2 : 20.0 %\n"
          ]
        }
      ]
    },
    {
      "cell_type": "code",
      "source": [
        "#GC manual 2 Pakai looping \n",
        "#list comprehension\n",
        "#do this == for this collection == in this situation\n",
        "#  x+1       for x in range(5)       \n",
        "\n",
        "def gc_content2(seq):\n",
        "  #tidak peduli urutan, yang penting karakternya sama\n",
        "  #x pertama adalah output\n",
        "  #x kedua adalah limit looping\n",
        "  #x ketiga adalah karakter yang dicari (target)\n",
        "  gc = [x for x in seq if x in 'GC']\n",
        "  result = len(gc) / len(seq)\n",
        "  return result * 100\n",
        "\n",
        "print('GC2 seq1 :', gc_content2(seq1), '%')"
      ],
      "metadata": {
        "colab": {
          "base_uri": "https://localhost:8080/"
        },
        "id": "K7hYRddg9RUR",
        "outputId": "5363e99a-58ff-46ed-c71a-4f03bae9c18b"
      },
      "execution_count": 15,
      "outputs": [
        {
          "output_type": "stream",
          "name": "stdout",
          "text": [
            "GC2 seq1 : 50.0\n"
          ]
        }
      ]
    },
    {
      "cell_type": "code",
      "source": [
        "#GC function\n",
        "#ctrl + space : display available libraries\n",
        "from Bio.SeqUtils import GC\n",
        "print(GC(seq1),'%')\n",
        "GC(seq2)"
      ],
      "metadata": {
        "colab": {
          "base_uri": "https://localhost:8080/"
        },
        "id": "ULeeEPPM_F54",
        "outputId": "d8e06f26-cfaf-4105-d760-06bae097a341"
      },
      "execution_count": 19,
      "outputs": [
        {
          "output_type": "stream",
          "name": "stdout",
          "text": [
            "50.0 %\n"
          ]
        },
        {
          "output_type": "stream",
          "name": "stderr",
          "text": [
            "/usr/local/lib/python3.8/dist-packages/Bio/SeqUtils/__init__.py:144: BiopythonDeprecationWarning: GC is deprecated; please use gc_fraction instead.\n",
            "  warnings.warn(\n"
          ]
        },
        {
          "output_type": "execute_result",
          "data": {
            "text/plain": [
              "20.0"
            ]
          },
          "metadata": {},
          "execution_count": 19
        }
      ]
    },
    {
      "cell_type": "code",
      "source": [
        "#gc_fraction\n",
        "#sama seperti GC, tapi hasilnya 0 - 1(desimal)\n",
        "\n",
        "from Bio.SeqUtils import gc_fraction\n",
        "gc_fraction(seq1)\n",
        "\n",
        "#tidak ada function serupa untuk AT"
      ],
      "metadata": {
        "colab": {
          "base_uri": "https://localhost:8080/"
        },
        "id": "6xXY_gXV_Z43",
        "outputId": "3e084711-7a34-409c-d5de-ce5a66e5ed3e"
      },
      "execution_count": 23,
      "outputs": [
        {
          "output_type": "execute_result",
          "data": {
            "text/plain": [
              "0.5"
            ]
          },
          "metadata": {},
          "execution_count": 23
        }
      ]
    },
    {
      "cell_type": "markdown",
      "source": [
        "#AT content"
      ],
      "metadata": {
        "id": "m-N_kuZn__9f"
      }
    },
    {
      "cell_type": "code",
      "source": [
        "#AT manual 1\n",
        "def at_content(seq):\n",
        "  #menghitung jumlah protein tertentu di dalam 1 sequence\n",
        "  result = float(seq.count('A')+ seq.count('T')) / len(seq)\n",
        "  return result * 100\n",
        "\n",
        "print('AT seq1 : ', at_content(seq1), '%')\n",
        "print('AT seq2 : ', at_content(seq2), '%')"
      ],
      "metadata": {
        "colab": {
          "base_uri": "https://localhost:8080/"
        },
        "id": "7apLemvUACIh",
        "outputId": "1e4901c5-e90d-4fdc-f050-ba619f7e5e4d"
      },
      "execution_count": 25,
      "outputs": [
        {
          "output_type": "stream",
          "name": "stdout",
          "text": [
            "AT seq1 :  50.0 %\n",
            "AT seq2 :  80.0 %\n"
          ]
        }
      ]
    },
    {
      "cell_type": "code",
      "source": [
        "#AT manual 2\n",
        "def at_content2(seq):\n",
        "  at = [y for y in seq if y in 'AT']\n",
        "  result = len(at) / len(seq)\n",
        "  return result\n",
        "\n",
        "print('AT content seq1 : ', at_content2(seq1))"
      ],
      "metadata": {
        "colab": {
          "base_uri": "https://localhost:8080/"
        },
        "id": "DgvkbHAlAwlA",
        "outputId": "f4e3c3ef-bee2-444c-f89a-d9b9f5a264dc"
      },
      "execution_count": 28,
      "outputs": [
        {
          "output_type": "stream",
          "name": "stdout",
          "text": [
            "AT content seq1 :  0.5\n"
          ]
        }
      ]
    },
    {
      "cell_type": "markdown",
      "source": [
        "#Melting point\n",
        "Semakin banyak jumlah GC, semakin stabil DNA, sehingga titik lelehnya semakin tinggi\n",
        "\n",
        "T_m = 2(A + T) + 4(G + C)\n",
        "\n",
        "(A + T) = jumlah AT\n",
        "(G + C) = jumlah GC"
      ],
      "metadata": {
        "id": "KQwW441cBpiv"
      }
    },
    {
      "cell_type": "code",
      "source": [
        "#Wallace Manual\n",
        "#bisa cara manual, atau pakai comprehension list\n",
        "def gc_len(seq):\n",
        "  gc = [z for z in seq if z in 'GC']\n",
        "  return len(gc)\n",
        "\n",
        "print('comprehension list method on seq1', gc_len(seq1))\n",
        "print('comprehension list method on seq2', gc_len(seq2))\n",
        "\n",
        "def gc_len2(seq):\n",
        "  gc = seq.count('G') + seq.count('C')\n",
        "  return gc\n",
        "\n",
        "print('manual counting on seq1 : ', gc_len2(seq1))\n",
        "\n",
        "#On AT\n",
        "def at_len(seq):\n",
        "  at = [o for o in seq if o in 'AT']\n",
        "  return len(at)\n",
        "\n",
        "print('comprehension list method on seq1', at_len(seq1))\n",
        "print('comprehension list method on seq2', at_len(seq2))\n",
        "\n",
        "def at_len2(seq):\n",
        "  at = seq.count('T') + seq.count('A')\n",
        "  return at\n",
        "\n",
        "print('manual counting on seq1 : ', at_len2(seq1))\n",
        "\n",
        "print('=========================================')\n",
        "\n",
        "def wallace_manual(seq):\n",
        "  mt = 2*(at_len(seq)) + 4*(gc_len(seq))\n",
        "  return mt\n",
        "\n",
        "print('Wallace Manual Seq1 : ', wallace_manual(seq1))\n",
        "print('Wallace Manual Seq2 : ', wallace_manual(seq2))\n"
      ],
      "metadata": {
        "colab": {
          "base_uri": "https://localhost:8080/"
        },
        "id": "EC6KbvcvCOeg",
        "outputId": "b142882f-f340-4e79-b697-fc7fa94e2900"
      },
      "execution_count": 36,
      "outputs": [
        {
          "output_type": "stream",
          "name": "stdout",
          "text": [
            "comprehension list method on seq1 6\n",
            "comprehension list method on seq2 2\n",
            "manual counting on seq1 :  6\n",
            "comprehension list method on seq1 6\n",
            "comprehension list method on seq2 8\n",
            "manual counting on seq1 :  6\n",
            "=========================================\n",
            "Wallace Manual Seq1 :  36\n",
            "Wallace Manual Seq2 :  24\n"
          ]
        }
      ]
    },
    {
      "cell_type": "code",
      "source": [
        "#Wallace Function\n",
        "from Bio.SeqUtils import MeltingTemp as mt\n",
        "\n",
        "print(\"Wallace Function on Seq1 and Seq2\")\n",
        "print(mt.Tm_Wallace(seq1) , mt.Tm_Wallace(seq2))"
      ],
      "metadata": {
        "colab": {
          "base_uri": "https://localhost:8080/"
        },
        "id": "eNt8vP-qEbAg",
        "outputId": "9b448991-185e-4dc7-b1a5-5bfb8d4868c1"
      },
      "execution_count": 39,
      "outputs": [
        {
          "output_type": "stream",
          "name": "stdout",
          "text": [
            "Wallace Function on Seq1 and Seq2\n",
            "36.0 24.0\n"
          ]
        }
      ]
    },
    {
      "cell_type": "code",
      "source": [
        "#GC\n",
        "print('GC Melting POint Seq1: ', mt.Tm_GC(seq1))\n",
        "print('GC Melting POint Seq2: ', mt.Tm_GC(seq2))"
      ],
      "metadata": {
        "colab": {
          "base_uri": "https://localhost:8080/"
        },
        "id": "qbJfDXNJClIH",
        "outputId": "18fc2364-ed6d-496f-fe87-a85c1526ede3"
      },
      "execution_count": 40,
      "outputs": [
        {
          "output_type": "stream",
          "name": "stdout",
          "text": [
            "GC Melting POint Seq1:  30.40290207197791\n",
            "GC Melting POint Seq2:  8.102902071977912\n"
          ]
        }
      ]
    },
    {
      "cell_type": "code",
      "source": [
        "#NN\n",
        "print('NN Melting POint Seq1: ', mt.Tm_NN(seq1))\n",
        "print('NN Melting POint Seq2: ', mt.Tm_NN(seq2))"
      ],
      "metadata": {
        "colab": {
          "base_uri": "https://localhost:8080/"
        },
        "id": "kPA7kVk8ClP-",
        "outputId": "1b602707-b92c-4296-d96b-26a0de34b80d"
      },
      "execution_count": 41,
      "outputs": [
        {
          "output_type": "stream",
          "name": "stdout",
          "text": [
            "NN Melting POint Seq1:  32.71608193055266\n",
            "NN Melting POint Seq2:  7.575332320698124\n"
          ]
        }
      ]
    },
    {
      "cell_type": "markdown",
      "source": [
        "#Molecular Weight"
      ],
      "metadata": {
        "id": "sXJ7Nfz3F6Vt"
      }
    },
    {
      "cell_type": "code",
      "source": [
        "from Bio.SeqUtils import molecular_weight as mw\n",
        "print('Molecular Weight Seq1 : ', mw(seq1))\n",
        "print('Molecular Weight Seq2 : ', mw(seq2))\n",
        "#grams/mol"
      ],
      "metadata": {
        "colab": {
          "base_uri": "https://localhost:8080/"
        },
        "id": "44rJ89tpGQEN",
        "outputId": "9bb9ffbc-55d5-4486-d701-a6f13d01af5a"
      },
      "execution_count": 42,
      "outputs": [
        {
          "output_type": "stream",
          "name": "stdout",
          "text": [
            "Molecular Weight Seq1 :  3725.3775\n",
            "Molecular Weight Seq2 :  3106.0018\n"
          ]
        }
      ]
    },
    {
      "cell_type": "code",
      "source": [
        "#pie chart\n",
        "!pip install matplotlib\n",
        "from matplotlib import pyplot as plt\n",
        "\n"
      ],
      "metadata": {
        "colab": {
          "base_uri": "https://localhost:8080/"
        },
        "id": "Hw1R1FNiG06q",
        "outputId": "2b0cef38-551d-49b9-97ae-8ec7ad9be1ae"
      },
      "execution_count": 46,
      "outputs": [
        {
          "output_type": "stream",
          "name": "stdout",
          "text": [
            "Looking in indexes: https://pypi.org/simple, https://us-python.pkg.dev/colab-wheels/public/simple/\n",
            "Requirement already satisfied: matplotlib in /usr/local/lib/python3.8/dist-packages (3.5.3)\n",
            "Requirement already satisfied: python-dateutil>=2.7 in /usr/local/lib/python3.8/dist-packages (from matplotlib) (2.8.2)\n",
            "Requirement already satisfied: pyparsing>=2.2.1 in /usr/local/lib/python3.8/dist-packages (from matplotlib) (3.0.9)\n",
            "Requirement already satisfied: packaging>=20.0 in /usr/local/lib/python3.8/dist-packages (from matplotlib) (23.0)\n",
            "Requirement already satisfied: fonttools>=4.22.0 in /usr/local/lib/python3.8/dist-packages (from matplotlib) (4.38.0)\n",
            "Requirement already satisfied: numpy>=1.17 in /usr/local/lib/python3.8/dist-packages (from matplotlib) (1.22.4)\n",
            "Requirement already satisfied: kiwisolver>=1.0.1 in /usr/local/lib/python3.8/dist-packages (from matplotlib) (1.4.4)\n",
            "Requirement already satisfied: cycler>=0.10 in /usr/local/lib/python3.8/dist-packages (from matplotlib) (0.11.0)\n",
            "Requirement already satisfied: pillow>=6.2.0 in /usr/local/lib/python3.8/dist-packages (from matplotlib) (8.4.0)\n",
            "Requirement already satisfied: six>=1.5 in /usr/local/lib/python3.8/dist-packages (from python-dateutil>=2.7->matplotlib) (1.15.0)\n"
          ]
        }
      ]
    },
    {
      "cell_type": "code",
      "source": [
        "#[] adalah list\n",
        "data = [gc_content(seq1), at_content(seq1)]\n",
        "labele = ['GC', 'AT']\n",
        "print(plt.pie(data, labels = labele))\n",
        "\n"
      ],
      "metadata": {
        "colab": {
          "base_uri": "https://localhost:8080/",
          "height": 265
        },
        "id": "NaEUHXhQHT69",
        "outputId": "553f6b6f-19c8-4fb6-d501-d57806e906d1"
      },
      "execution_count": 50,
      "outputs": [
        {
          "output_type": "stream",
          "name": "stdout",
          "text": [
            "([<matplotlib.patches.Wedge object at 0x7fee7b83b160>, <matplotlib.patches.Wedge object at 0x7fee7b83b640>], [Text(6.735557395310444e-17, 1.1, 'GC'), Text(-2.0206672185931328e-16, -1.1, 'AT')])\n"
          ]
        },
        {
          "output_type": "display_data",
          "data": {
            "text/plain": [
              "<Figure size 432x288 with 1 Axes>"
            ],
            "image/png": "[encoded data removed]"
          },
          "metadata": {}
        }
      ]
    },
    {
      "cell_type": "code",
      "source": [
        "data2 = [gc_content(seq2), at_content(seq2)]\n",
        "labelku = ['GC', 'AT']\n",
        "print(plt.pie(data2, labels = labelku))\n"
      ],
      "metadata": {
        "colab": {
          "base_uri": "https://localhost:8080/",
          "height": 265
        },
        "id": "1KSDfUEPH0nF",
        "outputId": "a8575f91-89c1-446c-8124-17bde8765bde"
      },
      "execution_count": 51,
      "outputs": [
        {
          "output_type": "stream",
          "name": "stdout",
          "text": [
            "([<matplotlib.patches.Wedge object at 0x7fee7b7f6eb0>, <matplotlib.patches.Wedge object at 0x7fee7b8043d0>], [Text(0.8899186877588753, 0.6465637858537406, 'GC'), Text(-0.8899186574910393, -0.6465638275138399, 'AT')])\n"
          ]
        },
        {
          "output_type": "display_data",
          "data": {
            "text/plain": [
              "<Figure size 432x288 with 1 Axes>"
            ],
            "image/png": "[encoded data removed]"
          },
          "metadata": {}
        }
      ]
    },
    {
      "cell_type": "markdown",
      "source": [
        "#Assignment\n",
        "Sequence A:\n",
        "AGCTTGCAGCGTCCGTTAGCTCGAGTCCAGGACGTTAGTCCTGCAGTC\n",
        "\n",
        "Sequence B:\n",
        "CAGTAAGTTGCCGTTAGCGCGTAGTGCCAGTAAGCGGCTCGTTAGTGG\n",
        "\n",
        "•\tDetermine the molecular weight of both sequence.\n",
        "\n",
        "•\tRefer to the Wallace rule to calculate the melting point of sequence A and sequence B and plot them using Matplotlib library.\n",
        "\n",
        "•\tCalculate the GC content of sequence A and sequence B.\n",
        "\n",
        "•\tCalculate the AT content of sequence A and sequence B.\n",
        "\n",
        "•\tPlot the GC and AT content of sequence A and sequence B using Matplotlib library.\n"
      ],
      "metadata": {
        "id": "QgVskm37JHjr"
      }
    },
    {
      "cell_type": "code",
      "source": [
        "seqa = Seq('AGCTTGCAGCGTCCGTTAGCTCGAGTCCAGGACGTTAGTCCTGCAGTC')\n",
        "seqb = Seq('CAGTAAGTTGCCGTTAGCGCGTAGTGCCAGTAAGCGGCTCGTTAGTGG')"
      ],
      "metadata": {
        "id": "K1IzzxBfJJVM"
      },
      "execution_count": 52,
      "outputs": []
    },
    {
      "cell_type": "code",
      "source": [
        "#Molecular weight of both sequence\n",
        "from Bio.SeqUtils import molecular_weight as mw\n",
        "print('Molecular weight of seqA : ', mw(seqa))\n",
        "print('Molecular weight of seqB : ', mw(seqb))"
      ],
      "metadata": {
        "colab": {
          "base_uri": "https://localhost:8080/"
        },
        "id": "9uzYER5dJa0T",
        "outputId": "35474646-7455-4c62-ba76-1bcb525650f7"
      },
      "execution_count": 54,
      "outputs": [
        {
          "output_type": "stream",
          "name": "stdout",
          "text": [
            "Molecular weight of seqA :  14831.413499999997\n",
            "Molecular weight of seqB :  14975.510499999997\n"
          ]
        }
      ]
    },
    {
      "cell_type": "code",
      "source": [
        "#Wallace Rule - Melting point \n",
        "from Bio.SeqUtils import MeltingTemp as mt\n",
        "print('Melting Point of seqA : ', mt.Tm_Wallace(seqa))\n",
        "print('Melting Point of seqB : ', mt.Tm_Wallace(seqb))"
      ],
      "metadata": {
        "colab": {
          "base_uri": "https://localhost:8080/"
        },
        "id": "RP0mZk6eJrNy",
        "outputId": "dbd8f08b-60dc-464c-a25d-567cea9513b4"
      },
      "execution_count": 55,
      "outputs": [
        {
          "output_type": "stream",
          "name": "stdout",
          "text": [
            "Melting Point of seqA :  152.0\n",
            "Melting Point of seqB :  150.0\n"
          ]
        }
      ]
    },
    {
      "cell_type": "code",
      "source": [
        "#Plot - Melting point\n",
        "!pip install matplotlib\n",
        "from matplotlib import pyplot as plt\n",
        "\n",
        "datae = [mt.Tm_Wallace(seqa), mt.Tm_Wallace(seqb)]\n",
        "labelz = ['GC', 'AT']\n",
        "plt.pie(datae, labels = labelz)"
      ],
      "metadata": {
        "colab": {
          "base_uri": "https://localhost:8080/",
          "height": 508
        },
        "id": "ntWBwqMcKG1z",
        "outputId": "8c4aa1f8-fc21-4883-a064-70679300269f"
      },
      "execution_count": 60,
      "outputs": [
        {
          "output_type": "stream",
          "name": "stdout",
          "text": [
            "Looking in indexes: https://pypi.org/simple, https://us-python.pkg.dev/colab-wheels/public/simple/\n",
            "Requirement already satisfied: matplotlib in /usr/local/lib/python3.8/dist-packages (3.5.3)\n",
            "Requirement already satisfied: numpy>=1.17 in /usr/local/lib/python3.8/dist-packages (from matplotlib) (1.22.4)\n",
            "Requirement already satisfied: cycler>=0.10 in /usr/local/lib/python3.8/dist-packages (from matplotlib) (0.11.0)\n",
            "Requirement already satisfied: pyparsing>=2.2.1 in /usr/local/lib/python3.8/dist-packages (from matplotlib) (3.0.9)\n",
            "Requirement already satisfied: kiwisolver>=1.0.1 in /usr/local/lib/python3.8/dist-packages (from matplotlib) (1.4.4)\n",
            "Requirement already satisfied: pillow>=6.2.0 in /usr/local/lib/python3.8/dist-packages (from matplotlib) (8.4.0)\n",
            "Requirement already satisfied: packaging>=20.0 in /usr/local/lib/python3.8/dist-packages (from matplotlib) (23.0)\n",
            "Requirement already satisfied: fonttools>=4.22.0 in /usr/local/lib/python3.8/dist-packages (from matplotlib) (4.38.0)\n",
            "Requirement already satisfied: python-dateutil>=2.7 in /usr/local/lib/python3.8/dist-packages (from matplotlib) (2.8.2)\n",
            "Requirement already satisfied: six>=1.5 in /usr/local/lib/python3.8/dist-packages (from python-dateutil>=2.7->matplotlib) (1.15.0)\n"
          ]
        },
        {
          "output_type": "execute_result",
          "data": {
            "text/plain": [
              "([<matplotlib.patches.Wedge at 0x7fee7b41e940>,\n",
              "  <matplotlib.patches.Wedge at 0x7fee7b41ee20>],\n",
              " [Text(-0.011442743513844075, 1.0999404818538485, 'GC'),\n",
              "  Text(0.011442846497703624, -1.0999404807824968, 'AT')])"
            ]
          },
          "metadata": {},
          "execution_count": 60
        },
        {
          "output_type": "display_data",
          "data": {
            "text/plain": [
              "<Figure size 432x288 with 1 Axes>"
            ],
            "image/png": "[encoded data removed]"
          },
          "metadata": {}
        }
      ]
    },
    {
      "cell_type": "code",
      "source": [
        "#GC content of seqA & seqB\n",
        "def gc_conten(seq) :\n",
        "  gc = [x for x in seq if x in 'GC']\n",
        "  percentage = (len(gc)/len(seq)) * 100\n",
        "  return percentage\n",
        "\n",
        "print('GC content for seqA : ', gc_conten(seqa))\n",
        "print('GC content for seqB : ', gc_conten(seqb))"
      ],
      "metadata": {
        "colab": {
          "base_uri": "https://localhost:8080/"
        },
        "id": "Z1blXR-4KZrk",
        "outputId": "787637d0-6471-487d-86dd-203baf150f5a"
      },
      "execution_count": 61,
      "outputs": [
        {
          "output_type": "stream",
          "name": "stdout",
          "text": [
            "GC content for seqA :  58.333333333333336\n",
            "GC content for seqB :  56.25\n"
          ]
        }
      ]
    },
    {
      "cell_type": "code",
      "source": [
        "#AT content of seqA & seqB\n",
        "def at_conten(seq) :\n",
        "  at = [x for x in seq if x in 'AT']\n",
        "  percentage = (len(at)/len(seq)) * 100\n",
        "  return percentage\n",
        "\n",
        "\n",
        "print('AT content for seqA : ', at_conten(seqa))\n",
        "print('AT content for seqB : ', at_conten(seqb))"
      ],
      "metadata": {
        "colab": {
          "base_uri": "https://localhost:8080/"
        },
        "id": "XokRuF0vK6LN",
        "outputId": "b853235b-ca06-48a9-f53f-c866d43b10fd"
      },
      "execution_count": 63,
      "outputs": [
        {
          "output_type": "stream",
          "name": "stdout",
          "text": [
            "AT content for seqA :  41.66666666666667\n",
            "AT content for seqB :  43.75\n"
          ]
        }
      ]
    },
    {
      "cell_type": "code",
      "source": [
        "#Bar Chart - GC & AT content Sequence A\n",
        "# data1 = [gc_conten(seqa), at_conten(seqa)]\n",
        "# labell = ['GC', 'AT']\n",
        "# plt.bar(labell, data1)\n",
        "\n",
        "#lookup next : python dictionary\n",
        "\n",
        "data = {\n",
        "    'GC' : gc_conten(seqa),\n",
        "    'AT' : at_conten(seqa)\n",
        "}\n",
        "plt.bar(data.keys(), data.values())"
      ],
      "metadata": {
        "colab": {
          "base_uri": "https://localhost:8080/",
          "height": 282
        },
        "id": "8Kfkf-yaMCPk",
        "outputId": "8009c3b6-85f2-43a8-f24d-dc95d045515b"
      },
      "execution_count": 71,
      "outputs": [
        {
          "output_type": "execute_result",
          "data": {
            "text/plain": [
              "<BarContainer object of 2 artists>"
            ]
          },
          "metadata": {},
          "execution_count": 71
        },
        {
          "output_type": "display_data",
          "data": {
            "text/plain": [
              "<Figure size 432x288 with 1 Axes>"
            ],
            "image/png": "[encoded data removed]"
          },
          "metadata": {
            "needs_background": "light"
          }
        }
      ]
    },
    {
      "cell_type": "code",
      "source": [
        "#Bar Chart - GC & AT content Sequence B\n",
        "data2 = [gc_conten(seqb), at_conten(seqb)]\n",
        "labella = ['GC', 'AT']\n",
        "plt.bar(labella, data2)"
      ],
      "metadata": {
        "colab": {
          "base_uri": "https://localhost:8080/",
          "height": 282
        },
        "id": "NopDafRvM9Uc",
        "outputId": "fc90d4ae-d74b-490b-ee58-1ce541debd60"
      },
      "execution_count": 68,
      "outputs": [
        {
          "output_type": "execute_result",
          "data": {
            "text/plain": [
              "<BarContainer object of 2 artists>"
            ]
          },
          "metadata": {},
          "execution_count": 68
        },
        {
          "output_type": "display_data",
          "data": {
            "text/plain": [
              "<Figure size 432x288 with 1 Axes>"
            ],
            "image/png": "[encoded data removed]"
          },
          "metadata": {
            "needs_background": "light"
          }
        }
      ]
    },
    {
      "cell_type": "code",
      "source": [
        "datar = {\n",
        "    'Wallace' : mt.Tm_Wallace(seqa),\n",
        "    'GC' : mt.Tm_GC(seqa),\n",
        "    'NN' : mt.Tm_NN(seqa)\n",
        "}\n",
        "\n",
        "plt.bar(datar.keys(), datar.values())"
      ],
      "metadata": {
        "colab": {
          "base_uri": "https://localhost:8080/",
          "height": 282
        },
        "id": "_qVP51S6NjQc",
        "outputId": "a637d614-5b4f-4fd2-b6f1-31fee20bcfc5"
      },
      "execution_count": 73,
      "outputs": [
        {
          "output_type": "execute_result",
          "data": {
            "text/plain": [
              "<BarContainer object of 3 artists>"
            ]
          },
          "metadata": {},
          "execution_count": 73
        },
        {
          "output_type": "display_data",
          "data": {
            "text/plain": [
              "<Figure size 432x288 with 1 Axes>"
            ],
            "image/png": "[encoded data removed]"
          },
          "metadata": {
            "needs_background": "light"
          }
        }
      ]
    }
  ]
}